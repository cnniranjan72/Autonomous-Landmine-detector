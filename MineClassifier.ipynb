{
  "nbformat": 4,
  "nbformat_minor": 0,
  "metadata": {
    "colab": {
      "provenance": [],
      "authorship_tag": "ABX9TyOgcDydM3ZEB6zDZqez95TC",
      "include_colab_link": true
    },
    "kernelspec": {
      "name": "python3",
      "display_name": "Python 3"
    },
    "language_info": {
      "name": "python"
    }
  },
  "cells": [
    {
      "cell_type": "markdown",
      "metadata": {
        "id": "view-in-github",
        "colab_type": "text"
      },
      "source": [
        "<a href=\"https://colab.research.google.com/github/cnniranjan72/Autonomous-Landmine-detector/blob/main/MineClassifier.ipynb\" target=\"_parent\"><img src=\"https://colab.research.google.com/assets/colab-badge.svg\" alt=\"Open In Colab\"/></a>"
      ]
    },
    {
      "cell_type": "code",
      "source": [
        "from google.colab import files\n",
        "uploaded = files.upload()"
      ],
      "metadata": {
        "colab": {
          "base_uri": "https://localhost:8080/",
          "height": 73
        },
        "id": "RJUfNErqc3Gc",
        "outputId": "a7d74250-cf08-4eec-f7b3-4e90ced7d7d1"
      },
      "execution_count": null,
      "outputs": [
        {
          "output_type": "display_data",
          "data": {
            "text/plain": [
              "<IPython.core.display.HTML object>"
            ],
            "text/html": [
              "\n",
              "     <input type=\"file\" id=\"files-3bd83e14-5ede-4fd8-958b-41bf383fd28d\" name=\"files[]\" multiple disabled\n",
              "        style=\"border:none\" />\n",
              "     <output id=\"result-3bd83e14-5ede-4fd8-958b-41bf383fd28d\">\n",
              "      Upload widget is only available when the cell has been executed in the\n",
              "      current browser session. Please rerun this cell to enable.\n",
              "      </output>\n",
              "      <script>// Copyright 2017 Google LLC\n",
              "//\n",
              "// Licensed under the Apache License, Version 2.0 (the \"License\");\n",
              "// you may not use this file except in compliance with the License.\n",
              "// You may obtain a copy of the License at\n",
              "//\n",
              "//      http://www.apache.org/licenses/LICENSE-2.0\n",
              "//\n",
              "// Unless required by applicable law or agreed to in writing, software\n",
              "// distributed under the License is distributed on an \"AS IS\" BASIS,\n",
              "// WITHOUT WARRANTIES OR CONDITIONS OF ANY KIND, either express or implied.\n",
              "// See the License for the specific language governing permissions and\n",
              "// limitations under the License.\n",
              "\n",
              "/**\n",
              " * @fileoverview Helpers for google.colab Python module.\n",
              " */\n",
              "(function(scope) {\n",
              "function span(text, styleAttributes = {}) {\n",
              "  const element = document.createElement('span');\n",
              "  element.textContent = text;\n",
              "  for (const key of Object.keys(styleAttributes)) {\n",
              "    element.style[key] = styleAttributes[key];\n",
              "  }\n",
              "  return element;\n",
              "}\n",
              "\n",
              "// Max number of bytes which will be uploaded at a time.\n",
              "const MAX_PAYLOAD_SIZE = 100 * 1024;\n",
              "\n",
              "function _uploadFiles(inputId, outputId) {\n",
              "  const steps = uploadFilesStep(inputId, outputId);\n",
              "  const outputElement = document.getElementById(outputId);\n",
              "  // Cache steps on the outputElement to make it available for the next call\n",
              "  // to uploadFilesContinue from Python.\n",
              "  outputElement.steps = steps;\n",
              "\n",
              "  return _uploadFilesContinue(outputId);\n",
              "}\n",
              "\n",
              "// This is roughly an async generator (not supported in the browser yet),\n",
              "// where there are multiple asynchronous steps and the Python side is going\n",
              "// to poll for completion of each step.\n",
              "// This uses a Promise to block the python side on completion of each step,\n",
              "// then passes the result of the previous step as the input to the next step.\n",
              "function _uploadFilesContinue(outputId) {\n",
              "  const outputElement = document.getElementById(outputId);\n",
              "  const steps = outputElement.steps;\n",
              "\n",
              "  const next = steps.next(outputElement.lastPromiseValue);\n",
              "  return Promise.resolve(next.value.promise).then((value) => {\n",
              "    // Cache the last promise value to make it available to the next\n",
              "    // step of the generator.\n",
              "    outputElement.lastPromiseValue = value;\n",
              "    return next.value.response;\n",
              "  });\n",
              "}\n",
              "\n",
              "/**\n",
              " * Generator function which is called between each async step of the upload\n",
              " * process.\n",
              " * @param {string} inputId Element ID of the input file picker element.\n",
              " * @param {string} outputId Element ID of the output display.\n",
              " * @return {!Iterable<!Object>} Iterable of next steps.\n",
              " */\n",
              "function* uploadFilesStep(inputId, outputId) {\n",
              "  const inputElement = document.getElementById(inputId);\n",
              "  inputElement.disabled = false;\n",
              "\n",
              "  const outputElement = document.getElementById(outputId);\n",
              "  outputElement.innerHTML = '';\n",
              "\n",
              "  const pickedPromise = new Promise((resolve) => {\n",
              "    inputElement.addEventListener('change', (e) => {\n",
              "      resolve(e.target.files);\n",
              "    });\n",
              "  });\n",
              "\n",
              "  const cancel = document.createElement('button');\n",
              "  inputElement.parentElement.appendChild(cancel);\n",
              "  cancel.textContent = 'Cancel upload';\n",
              "  const cancelPromise = new Promise((resolve) => {\n",
              "    cancel.onclick = () => {\n",
              "      resolve(null);\n",
              "    };\n",
              "  });\n",
              "\n",
              "  // Wait for the user to pick the files.\n",
              "  const files = yield {\n",
              "    promise: Promise.race([pickedPromise, cancelPromise]),\n",
              "    response: {\n",
              "      action: 'starting',\n",
              "    }\n",
              "  };\n",
              "\n",
              "  cancel.remove();\n",
              "\n",
              "  // Disable the input element since further picks are not allowed.\n",
              "  inputElement.disabled = true;\n",
              "\n",
              "  if (!files) {\n",
              "    return {\n",
              "      response: {\n",
              "        action: 'complete',\n",
              "      }\n",
              "    };\n",
              "  }\n",
              "\n",
              "  for (const file of files) {\n",
              "    const li = document.createElement('li');\n",
              "    li.append(span(file.name, {fontWeight: 'bold'}));\n",
              "    li.append(span(\n",
              "        `(${file.type || 'n/a'}) - ${file.size} bytes, ` +\n",
              "        `last modified: ${\n",
              "            file.lastModifiedDate ? file.lastModifiedDate.toLocaleDateString() :\n",
              "                                    'n/a'} - `));\n",
              "    const percent = span('0% done');\n",
              "    li.appendChild(percent);\n",
              "\n",
              "    outputElement.appendChild(li);\n",
              "\n",
              "    const fileDataPromise = new Promise((resolve) => {\n",
              "      const reader = new FileReader();\n",
              "      reader.onload = (e) => {\n",
              "        resolve(e.target.result);\n",
              "      };\n",
              "      reader.readAsArrayBuffer(file);\n",
              "    });\n",
              "    // Wait for the data to be ready.\n",
              "    let fileData = yield {\n",
              "      promise: fileDataPromise,\n",
              "      response: {\n",
              "        action: 'continue',\n",
              "      }\n",
              "    };\n",
              "\n",
              "    // Use a chunked sending to avoid message size limits. See b/62115660.\n",
              "    let position = 0;\n",
              "    do {\n",
              "      const length = Math.min(fileData.byteLength - position, MAX_PAYLOAD_SIZE);\n",
              "      const chunk = new Uint8Array(fileData, position, length);\n",
              "      position += length;\n",
              "\n",
              "      const base64 = btoa(String.fromCharCode.apply(null, chunk));\n",
              "      yield {\n",
              "        response: {\n",
              "          action: 'append',\n",
              "          file: file.name,\n",
              "          data: base64,\n",
              "        },\n",
              "      };\n",
              "\n",
              "      let percentDone = fileData.byteLength === 0 ?\n",
              "          100 :\n",
              "          Math.round((position / fileData.byteLength) * 100);\n",
              "      percent.textContent = `${percentDone}% done`;\n",
              "\n",
              "    } while (position < fileData.byteLength);\n",
              "  }\n",
              "\n",
              "  // All done.\n",
              "  yield {\n",
              "    response: {\n",
              "      action: 'complete',\n",
              "    }\n",
              "  };\n",
              "}\n",
              "\n",
              "scope.google = scope.google || {};\n",
              "scope.google.colab = scope.google.colab || {};\n",
              "scope.google.colab._files = {\n",
              "  _uploadFiles,\n",
              "  _uploadFilesContinue,\n",
              "};\n",
              "})(self);\n",
              "</script> "
            ]
          },
          "metadata": {}
        },
        {
          "output_type": "stream",
          "name": "stdout",
          "text": [
            "Saving Land mines.csv to Land mines (1).csv\n"
          ]
        }
      ]
    },
    {
      "cell_type": "code",
      "source": [
        "import pandas as pd\n",
        "df = pd.read_csv(\"Land mines.csv\")\n",
        "print(df.head())\n"
      ],
      "metadata": {
        "colab": {
          "base_uri": "https://localhost:8080/"
        },
        "id": "BVWjXX0HdC_s",
        "outputId": "826c61d7-a17f-410c-a682-22a683493932"
      },
      "execution_count": null,
      "outputs": [
        {
          "output_type": "stream",
          "name": "stdout",
          "text": [
            "          V         H  S  M\n",
            "0  0.338157  0.000000  1  1\n",
            "1  0.320241  0.181818  1  1\n",
            "2  0.287009  0.272727  1  1\n",
            "3  0.256284  0.454545  1  1\n",
            "4  0.262840  0.545455  1  1\n"
          ]
        }
      ]
    },
    {
      "cell_type": "code",
      "execution_count": null,
      "metadata": {
        "colab": {
          "base_uri": "https://localhost:8080/"
        },
        "id": "PzXuA-_aUKSJ",
        "outputId": "5c81bbeb-cd36-472a-aeb2-6dcf55cccdb3"
      },
      "outputs": [
        {
          "output_type": "stream",
          "name": "stdout",
          "text": [
            "Accuracy: 0.47058823529411764\n",
            "\n",
            "Classification Report:\n",
            "               precision    recall  f1-score   support\n",
            "\n",
            "           0       0.55      0.55      0.55        11\n",
            "           1       0.92      0.92      0.92        12\n",
            "           2       0.41      0.44      0.42        16\n",
            "           3       0.29      0.45      0.36        11\n",
            "           4       0.27      0.17      0.21        18\n",
            "\n",
            "    accuracy                           0.47        68\n",
            "   macro avg       0.49      0.50      0.49        68\n",
            "weighted avg       0.47      0.47      0.46        68\n",
            "\n"
          ]
        }
      ],
      "source": [
        "from sklearn.tree import DecisionTreeClassifier\n",
        "from sklearn.metrics import accuracy_score, classification_report\n",
        "\n",
        "# Train model\n",
        "model = DecisionTreeClassifier(random_state=42)\n",
        "model.fit(X_train, y_train)\n",
        "\n",
        "# Predictions\n",
        "y_pred = model.predict(X_test)\n",
        "\n",
        "# Evaluation\n",
        "print(\"Accuracy:\", accuracy_score(y_test, y_pred))\n",
        "print(\"\\nClassification Report:\\n\", classification_report(y_test, y_pred))\n"
      ]
    },
    {
      "cell_type": "code",
      "source": [
        "from sklearn.ensemble import RandomForestClassifier\n",
        "from sklearn.svm import SVC\n",
        "from sklearn.linear_model import LogisticRegression\n",
        "from sklearn.metrics import accuracy_score\n",
        "\n",
        "models = {\n",
        "    \"Decision Tree\": DecisionTreeClassifier(random_state=42),\n",
        "    \"Random Forest\": RandomForestClassifier(random_state=42),\n",
        "    \"SVM\": SVC(),\n",
        "    \"Logistic Regression\": LogisticRegression(max_iter=1000)\n",
        "}\n",
        "\n",
        "for name, clf in models.items():\n",
        "    clf.fit(X_train, y_train)\n",
        "    preds = clf.predict(X_test)\n",
        "    print(f\"{name} Accuracy: {accuracy_score(y_test, preds):.2f}\")\n"
      ],
      "metadata": {
        "colab": {
          "base_uri": "https://localhost:8080/"
        },
        "id": "pzr2HYsCVYwJ",
        "outputId": "fe3e6c22-65c2-4f80-8cd8-172d339584d4"
      },
      "execution_count": null,
      "outputs": [
        {
          "output_type": "stream",
          "name": "stdout",
          "text": [
            "Decision Tree Accuracy: 0.47\n",
            "Random Forest Accuracy: 0.53\n",
            "SVM Accuracy: 0.28\n",
            "Logistic Regression Accuracy: 0.38\n"
          ]
        }
      ]
    },
    {
      "cell_type": "code",
      "source": [
        "from sklearn.preprocessing import StandardScaler\n",
        "\n",
        "scaler = StandardScaler()\n",
        "X_scaled = scaler.fit_transform(X)\n",
        "\n",
        "X_train, X_test, y_train, y_test = train_test_split(X_scaled, y, test_size=0.2, random_state=42)\n"
      ],
      "metadata": {
        "id": "4ZBwdL7NVjOS"
      },
      "execution_count": null,
      "outputs": []
    },
    {
      "cell_type": "code",
      "source": [
        "from sklearn.model_selection import cross_val_score\n",
        "\n",
        "clf = RandomForestClassifier(random_state=42)\n",
        "scores = cross_val_score(clf, X_scaled, y, cv=5)\n",
        "print(\"Cross-validation scores:\", scores)\n",
        "print(\"Average accuracy:\", scores.mean())\n",
        "\n"
      ],
      "metadata": {
        "colab": {
          "base_uri": "https://localhost:8080/"
        },
        "id": "lsx9VWnhVpj5",
        "outputId": "5f9421b5-0165-4efa-fef4-677ab6f78cb1"
      },
      "execution_count": null,
      "outputs": [
        {
          "output_type": "stream",
          "name": "stdout",
          "text": [
            "Cross-validation scores: [0.55882353 0.42647059 0.58823529 0.55223881 0.59701493]\n",
            "Average accuracy: 0.5445566286215979\n"
          ]
        }
      ]
    },
    {
      "cell_type": "code",
      "source": [
        "from sklearn.ensemble import RandomForestClassifier\n",
        "\n",
        "# Train again if not already done\n",
        "clf = RandomForestClassifier(random_state=42)\n",
        "clf.fit(X_train, y_train)\n",
        "\n",
        "# Now predict on a sample\n",
        "sample = [[0.35, 0.5, 3]]  # Example V, H, S\n",
        "prediction = clf.predict(sample)\n",
        "\n",
        "mine_types = {\n",
        "    1: \"Null (No Mine)\",\n",
        "    2: \"Anti-Tank\",\n",
        "    3: \"Anti-Personnel\",\n",
        "    4: \"Booby-Trapped Anti-Personnel\",\n",
        "    5: \"M14 Anti-Personnel\"\n",
        "}\n",
        "\n",
        "print(\"Predicted Mine Type (numeric):\", prediction[0])\n",
        "print(\"Predicted Mine Type (label):\", mine_types[prediction[0]])\n"
      ],
      "metadata": {
        "colab": {
          "base_uri": "https://localhost:8080/"
        },
        "id": "9op-kuLoWV4L",
        "outputId": "ed1b8695-0456-4f20-86f7-b4e29bb51e97"
      },
      "execution_count": null,
      "outputs": [
        {
          "output_type": "stream",
          "name": "stdout",
          "text": [
            "Predicted Mine Type (numeric): 1\n",
            "Predicted Mine Type (label): Null (No Mine)\n"
          ]
        }
      ]
    },
    {
      "cell_type": "code",
      "source": [
        "# Interactive input\n",
        "V = float(input(\"Enter Voltage (V): \"))\n",
        "H = float(input(\"Enter Height (H): \"))\n",
        "S = int(input(\"Enter Soil Type (1-6): \"))\n",
        "\n",
        "sample = [[V, H, S]]\n",
        "pred = clf.predict(sample)\n",
        "\n",
        "print(\"Predicted Mine Type:\", mine_types[pred[0]])\n"
      ],
      "metadata": {
        "colab": {
          "base_uri": "https://localhost:8080/"
        },
        "id": "mjkKGi0icPcn",
        "outputId": "08725ddf-524f-47ea-8a36-70fe56e02419"
      },
      "execution_count": null,
      "outputs": [
        {
          "output_type": "stream",
          "name": "stdout",
          "text": [
            "Enter Voltage (V): 0.3\n",
            "Enter Height (H): 0.5\n",
            "Enter Soil Type (1-6): 5\n",
            "Predicted Mine Type: Null (No Mine)\n"
          ]
        }
      ]
    },
    {
      "cell_type": "code",
      "source": [
        "from sklearn.ensemble import RandomForestClassifier\n",
        "from sklearn.model_selection import train_test_split\n",
        "from sklearn.metrics import accuracy_score\n",
        "import pandas as pd\n",
        "\n",
        "# Load dataset again\n",
        "df = pd.read_csv(\"Land mines.csv\")\n",
        "\n",
        "# Split features and labels\n",
        "X = df[['V', 'H', 'S']]\n",
        "y = df['M']\n",
        "\n",
        "# Train-test split\n",
        "X_train, X_test, y_train, y_test = train_test_split(X, y, test_size=0.2, random_state=42)\n",
        "\n",
        "# Train Random Forest\n",
        "clf = RandomForestClassifier(random_state=42)\n",
        "clf.fit(X_train, y_train)\n",
        "\n",
        "# Check accuracy\n",
        "y_pred = clf.predict(X_test)\n",
        "print(\"Random Forest Accuracy:\", accuracy_score(y_test, y_pred))\n"
      ],
      "metadata": {
        "colab": {
          "base_uri": "https://localhost:8080/"
        },
        "id": "LDV_YYxZcr4N",
        "outputId": "1a687fc7-7548-46cd-df50-92009629ff02"
      },
      "execution_count": null,
      "outputs": [
        {
          "output_type": "stream",
          "name": "stdout",
          "text": [
            "Random Forest Accuracy: 0.5294117647058824\n"
          ]
        }
      ]
    },
    {
      "cell_type": "code",
      "source": [
        "# =========================\n",
        "# 📌 Step 1: Upload Dataset\n",
        "# =========================\n",
        "from google.colab import files\n",
        "import pandas as pd\n",
        "from sklearn.model_selection import train_test_split\n",
        "from sklearn.ensemble import RandomForestClassifier\n",
        "from sklearn.metrics import accuracy_score, classification_report\n",
        "\n",
        "# Upload CSV file\n",
        "uploaded = files.upload()\n",
        "\n",
        "# Load dataset\n",
        "df = pd.read_csv(\"Land mines.csv\")\n",
        "print(\"✅ Dataset Loaded Successfully!\")\n",
        "print(df.head())\n",
        "\n",
        "# ==============================\n",
        "# 📌 Step 2: Prepare Data\n",
        "# ==============================\n",
        "X = df[[\"V\", \"H\", \"S\"]]   # Features\n",
        "y = df[\"M\"]               # Target (Mine Type)\n",
        "\n",
        "X_train, X_test, y_train, y_test = train_test_split(\n",
        "    X, y, test_size=0.2, random_state=42\n",
        ")\n",
        "\n",
        "# ==============================\n",
        "# 📌 Step 3: Train Model\n",
        "# ==============================\n",
        "clf = RandomForestClassifier(random_state=42)\n",
        "clf.fit(X_train, y_train)\n",
        "\n",
        "# Evaluate Model\n",
        "y_pred = clf.predict(X_test)\n",
        "print(\"\\n🎯 Accuracy:\", accuracy_score(y_test, y_pred))\n",
        "print(\"\\n📊 Classification Report:\\n\", classification_report(y_test, y_pred))\n",
        "\n",
        "# ==============================\n",
        "# 📌 Step 4: Predict New Sample\n",
        "# ==============================\n",
        "mine_types = {\n",
        "    1: \"Anti-Personnel\",\n",
        "    2: \"Anti-Tank\",\n",
        "    3: \"Fragmentation\",\n",
        "    4: \"Directional\",\n",
        "    5: \"Bounding\"\n",
        "}\n",
        "\n",
        "print(\"\\n🔮 Enter new values to predict mine type:\")\n",
        "V = float(input(\"Enter Voltage (V): \"))\n",
        "H = float(input(\"Enter Height (H): \"))\n",
        "S = int(input(\"Enter Soil Type (1-6): \"))\n",
        "\n",
        "sample = [[V, H, S]]\n",
        "pred = clf.predict(sample)\n",
        "\n",
        "print(\"\\n✅ Predicted Mine Type (numeric):\", pred[0])\n",
        "print(\"✅ Predicted Mine Type (label):\", mine_types[pred[0]])\n"
      ],
      "metadata": {
        "colab": {
          "base_uri": "https://localhost:8080/",
          "height": 665
        },
        "id": "GqO6uostdPi1",
        "outputId": "4398b85a-acde-44b2-e905-cf366c9b7bde"
      },
      "execution_count": null,
      "outputs": [
        {
          "output_type": "display_data",
          "data": {
            "text/plain": [
              "<IPython.core.display.HTML object>"
            ],
            "text/html": [
              "\n",
              "     <input type=\"file\" id=\"files-ab687b42-c77a-49ba-9a69-d574824d7562\" name=\"files[]\" multiple disabled\n",
              "        style=\"border:none\" />\n",
              "     <output id=\"result-ab687b42-c77a-49ba-9a69-d574824d7562\">\n",
              "      Upload widget is only available when the cell has been executed in the\n",
              "      current browser session. Please rerun this cell to enable.\n",
              "      </output>\n",
              "      <script>// Copyright 2017 Google LLC\n",
              "//\n",
              "// Licensed under the Apache License, Version 2.0 (the \"License\");\n",
              "// you may not use this file except in compliance with the License.\n",
              "// You may obtain a copy of the License at\n",
              "//\n",
              "//      http://www.apache.org/licenses/LICENSE-2.0\n",
              "//\n",
              "// Unless required by applicable law or agreed to in writing, software\n",
              "// distributed under the License is distributed on an \"AS IS\" BASIS,\n",
              "// WITHOUT WARRANTIES OR CONDITIONS OF ANY KIND, either express or implied.\n",
              "// See the License for the specific language governing permissions and\n",
              "// limitations under the License.\n",
              "\n",
              "/**\n",
              " * @fileoverview Helpers for google.colab Python module.\n",
              " */\n",
              "(function(scope) {\n",
              "function span(text, styleAttributes = {}) {\n",
              "  const element = document.createElement('span');\n",
              "  element.textContent = text;\n",
              "  for (const key of Object.keys(styleAttributes)) {\n",
              "    element.style[key] = styleAttributes[key];\n",
              "  }\n",
              "  return element;\n",
              "}\n",
              "\n",
              "// Max number of bytes which will be uploaded at a time.\n",
              "const MAX_PAYLOAD_SIZE = 100 * 1024;\n",
              "\n",
              "function _uploadFiles(inputId, outputId) {\n",
              "  const steps = uploadFilesStep(inputId, outputId);\n",
              "  const outputElement = document.getElementById(outputId);\n",
              "  // Cache steps on the outputElement to make it available for the next call\n",
              "  // to uploadFilesContinue from Python.\n",
              "  outputElement.steps = steps;\n",
              "\n",
              "  return _uploadFilesContinue(outputId);\n",
              "}\n",
              "\n",
              "// This is roughly an async generator (not supported in the browser yet),\n",
              "// where there are multiple asynchronous steps and the Python side is going\n",
              "// to poll for completion of each step.\n",
              "// This uses a Promise to block the python side on completion of each step,\n",
              "// then passes the result of the previous step as the input to the next step.\n",
              "function _uploadFilesContinue(outputId) {\n",
              "  const outputElement = document.getElementById(outputId);\n",
              "  const steps = outputElement.steps;\n",
              "\n",
              "  const next = steps.next(outputElement.lastPromiseValue);\n",
              "  return Promise.resolve(next.value.promise).then((value) => {\n",
              "    // Cache the last promise value to make it available to the next\n",
              "    // step of the generator.\n",
              "    outputElement.lastPromiseValue = value;\n",
              "    return next.value.response;\n",
              "  });\n",
              "}\n",
              "\n",
              "/**\n",
              " * Generator function which is called between each async step of the upload\n",
              " * process.\n",
              " * @param {string} inputId Element ID of the input file picker element.\n",
              " * @param {string} outputId Element ID of the output display.\n",
              " * @return {!Iterable<!Object>} Iterable of next steps.\n",
              " */\n",
              "function* uploadFilesStep(inputId, outputId) {\n",
              "  const inputElement = document.getElementById(inputId);\n",
              "  inputElement.disabled = false;\n",
              "\n",
              "  const outputElement = document.getElementById(outputId);\n",
              "  outputElement.innerHTML = '';\n",
              "\n",
              "  const pickedPromise = new Promise((resolve) => {\n",
              "    inputElement.addEventListener('change', (e) => {\n",
              "      resolve(e.target.files);\n",
              "    });\n",
              "  });\n",
              "\n",
              "  const cancel = document.createElement('button');\n",
              "  inputElement.parentElement.appendChild(cancel);\n",
              "  cancel.textContent = 'Cancel upload';\n",
              "  const cancelPromise = new Promise((resolve) => {\n",
              "    cancel.onclick = () => {\n",
              "      resolve(null);\n",
              "    };\n",
              "  });\n",
              "\n",
              "  // Wait for the user to pick the files.\n",
              "  const files = yield {\n",
              "    promise: Promise.race([pickedPromise, cancelPromise]),\n",
              "    response: {\n",
              "      action: 'starting',\n",
              "    }\n",
              "  };\n",
              "\n",
              "  cancel.remove();\n",
              "\n",
              "  // Disable the input element since further picks are not allowed.\n",
              "  inputElement.disabled = true;\n",
              "\n",
              "  if (!files) {\n",
              "    return {\n",
              "      response: {\n",
              "        action: 'complete',\n",
              "      }\n",
              "    };\n",
              "  }\n",
              "\n",
              "  for (const file of files) {\n",
              "    const li = document.createElement('li');\n",
              "    li.append(span(file.name, {fontWeight: 'bold'}));\n",
              "    li.append(span(\n",
              "        `(${file.type || 'n/a'}) - ${file.size} bytes, ` +\n",
              "        `last modified: ${\n",
              "            file.lastModifiedDate ? file.lastModifiedDate.toLocaleDateString() :\n",
              "                                    'n/a'} - `));\n",
              "    const percent = span('0% done');\n",
              "    li.appendChild(percent);\n",
              "\n",
              "    outputElement.appendChild(li);\n",
              "\n",
              "    const fileDataPromise = new Promise((resolve) => {\n",
              "      const reader = new FileReader();\n",
              "      reader.onload = (e) => {\n",
              "        resolve(e.target.result);\n",
              "      };\n",
              "      reader.readAsArrayBuffer(file);\n",
              "    });\n",
              "    // Wait for the data to be ready.\n",
              "    let fileData = yield {\n",
              "      promise: fileDataPromise,\n",
              "      response: {\n",
              "        action: 'continue',\n",
              "      }\n",
              "    };\n",
              "\n",
              "    // Use a chunked sending to avoid message size limits. See b/62115660.\n",
              "    let position = 0;\n",
              "    do {\n",
              "      const length = Math.min(fileData.byteLength - position, MAX_PAYLOAD_SIZE);\n",
              "      const chunk = new Uint8Array(fileData, position, length);\n",
              "      position += length;\n",
              "\n",
              "      const base64 = btoa(String.fromCharCode.apply(null, chunk));\n",
              "      yield {\n",
              "        response: {\n",
              "          action: 'append',\n",
              "          file: file.name,\n",
              "          data: base64,\n",
              "        },\n",
              "      };\n",
              "\n",
              "      let percentDone = fileData.byteLength === 0 ?\n",
              "          100 :\n",
              "          Math.round((position / fileData.byteLength) * 100);\n",
              "      percent.textContent = `${percentDone}% done`;\n",
              "\n",
              "    } while (position < fileData.byteLength);\n",
              "  }\n",
              "\n",
              "  // All done.\n",
              "  yield {\n",
              "    response: {\n",
              "      action: 'complete',\n",
              "    }\n",
              "  };\n",
              "}\n",
              "\n",
              "scope.google = scope.google || {};\n",
              "scope.google.colab = scope.google.colab || {};\n",
              "scope.google.colab._files = {\n",
              "  _uploadFiles,\n",
              "  _uploadFilesContinue,\n",
              "};\n",
              "})(self);\n",
              "</script> "
            ]
          },
          "metadata": {}
        },
        {
          "output_type": "stream",
          "name": "stdout",
          "text": [
            "Saving Land mines.csv to Land mines (2).csv\n",
            "✅ Dataset Loaded Successfully!\n",
            "          V         H  S  M\n",
            "0  0.338157  0.000000  1  1\n",
            "1  0.320241  0.181818  1  1\n",
            "2  0.287009  0.272727  1  1\n",
            "3  0.256284  0.454545  1  1\n",
            "4  0.262840  0.545455  1  1\n",
            "\n",
            "🎯 Accuracy: 0.5294117647058824\n",
            "\n",
            "📊 Classification Report:\n",
            "               precision    recall  f1-score   support\n",
            "\n",
            "           1       0.62      0.91      0.74        11\n",
            "           2       0.85      0.92      0.88        12\n",
            "           3       0.43      0.38      0.40        16\n",
            "           4       0.36      0.45      0.40        11\n",
            "           5       0.36      0.22      0.28        18\n",
            "\n",
            "    accuracy                           0.53        68\n",
            "   macro avg       0.52      0.58      0.54        68\n",
            "weighted avg       0.51      0.53      0.51        68\n",
            "\n",
            "\n",
            "🔮 Enter new values to predict mine type:\n",
            "Enter Voltage (V): 0.2\n",
            "Enter Height (H): 0.3\n",
            "Enter Soil Type (1-6): 1\n",
            "\n",
            "✅ Predicted Mine Type (numeric): 5\n",
            "✅ Predicted Mine Type (label): Bounding\n"
          ]
        },
        {
          "output_type": "stream",
          "name": "stderr",
          "text": [
            "/usr/local/lib/python3.12/dist-packages/sklearn/utils/validation.py:2739: UserWarning: X does not have valid feature names, but RandomForestClassifier was fitted with feature names\n",
            "  warnings.warn(\n"
          ]
        }
      ]
    },
    {
      "cell_type": "code",
      "source": [
        "import matplotlib.pyplot as plt\n",
        "import seaborn as sns\n",
        "from sklearn.metrics import confusion_matrix\n",
        "\n",
        "# 🔹 1. Confusion Matrix\n",
        "y_pred = clf.predict(X_test)\n",
        "cm = confusion_matrix(y_test, y_pred)\n",
        "\n",
        "plt.figure(figsize=(6,5))\n",
        "sns.heatmap(cm, annot=True, fmt=\"d\", cmap=\"Blues\",\n",
        "            xticklabels=mine_types.values(),\n",
        "            yticklabels=mine_types.values())\n",
        "plt.xlabel(\"Predicted\")\n",
        "plt.ylabel(\"Actual\")\n",
        "plt.title(\"Confusion Matrix - Random Forest\")\n",
        "plt.show()\n",
        "\n",
        "\n",
        "# 🔹 2. Feature Importance\n",
        "importances = clf.feature_importances_\n",
        "features = [\"Voltage (V)\", \"Height (H)\", \"Soil Type (S)\"]\n",
        "\n",
        "plt.figure(figsize=(6,4))\n",
        "sns.barplot(x=importances, y=features, palette=\"viridis\")\n",
        "plt.title(\"Feature Importance (Random Forest)\")\n",
        "plt.xlabel(\"Importance Score\")\n",
        "plt.ylabel(\"Features\")\n",
        "plt.show()\n"
      ],
      "metadata": {
        "colab": {
          "base_uri": "https://localhost:8080/",
          "height": 1000
        },
        "id": "EC8HoF26dsQ9",
        "outputId": "63eb0423-f763-4705-9c55-b1c346dc1c79"
      },
      "execution_count": null,
      "outputs": [
        {
          "output_type": "display_data",
          "data": {
            "text/plain": [
              "<Figure size 600x500 with 2 Axes>"
            ],
            "image/png": "[encoded data removed]"
          },
          "metadata": {}
        },
        {
          "output_type": "stream",
          "name": "stderr",
          "text": [
            "/tmp/ipython-input-4218637057.py:24: FutureWarning: \n",
            "\n",
            "Passing `palette` without assigning `hue` is deprecated and will be removed in v0.14.0. Assign the `y` variable to `hue` and set `legend=False` for the same effect.\n",
            "\n",
            "  sns.barplot(x=importances, y=features, palette=\"viridis\")\n"
          ]
        },
        {
          "output_type": "display_data",
          "data": {
            "text/plain": [
              "<Figure size 600x400 with 1 Axes>"
            ],
            "image/png": "[encoded data removed]"
          },
          "metadata": {}
        }
      ]
    },
    {
      "cell_type": "code",
      "source": [
        "import joblib\n",
        "joblib.dump(clf, \"landmine_model.pkl\")\n"
      ],
      "metadata": {
        "id": "f5fasHlEgvoG",
        "outputId": "0c88cd9e-fa81-4502-9fe2-737d33f912b4",
        "colab": {
          "base_uri": "https://localhost:8080/"
        }
      },
      "execution_count": null,
      "outputs": [
        {
          "output_type": "execute_result",
          "data": {
            "text/plain": [
              "['landmine_model.pkl']"
            ]
          },
          "metadata": {},
          "execution_count": 25
        }
      ]
    },
    {
      "cell_type": "code",
      "source": [
        "!pip install xgboost"
      ],
      "metadata": {
        "colab": {
          "base_uri": "https://localhost:8080/"
        },
        "id": "vEdZALfB80a8",
        "outputId": "a6452b83-37b7-4f11-d4e9-8e2ed213d4e1"
      },
      "execution_count": null,
      "outputs": [
        {
          "output_type": "stream",
          "name": "stdout",
          "text": [
            "Requirement already satisfied: xgboost in /usr/local/lib/python3.12/dist-packages (3.0.4)\n",
            "Requirement already satisfied: numpy in /usr/local/lib/python3.12/dist-packages (from xgboost) (2.0.2)\n",
            "Requirement already satisfied: nvidia-nccl-cu12 in /usr/local/lib/python3.12/dist-packages (from xgboost) (2.27.3)\n",
            "Requirement already satisfied: scipy in /usr/local/lib/python3.12/dist-packages (from xgboost) (1.16.1)\n"
          ]
        }
      ]
    },
    {
      "cell_type": "code",
      "source": [],
      "metadata": {
        "id": "0Ew0elGkT3K5"
      },
      "execution_count": null,
      "outputs": []
    },
    {
      "cell_type": "code",
      "source": [
        "# Map back to original mine labels (1–5)\n",
        "mine_types = {\n",
        "    0: \"Anti-Personnel\",\n",
        "    1: \"Anti-Tank\",\n",
        "    2: \"Fragmentation\",\n",
        "    3: \"Blast\",\n",
        "    4: \"Bounding\"\n",
        "}\n",
        "\n",
        "# Example input\n",
        "sample = [[0.35, 0.5, 3]]\n",
        "pred = xgb_clf.predict(sample)\n",
        "\n",
        "print(\"✅ Predicted Mine Type (numeric):\", pred[0] + 1)  # shift back\n",
        "print(\"✅ Predicted Mine Type (label):\", mine_types[pred[0]])\n"
      ],
      "metadata": {
        "colab": {
          "base_uri": "https://localhost:8080/"
        },
        "id": "b2hQ-xwr9ax4",
        "outputId": "6f41a5ad-7f84-4935-c020-3e3d48ec1936"
      },
      "execution_count": null,
      "outputs": [
        {
          "output_type": "stream",
          "name": "stdout",
          "text": [
            "✅ Predicted Mine Type (numeric): 5\n",
            "✅ Predicted Mine Type (label): Bounding\n"
          ]
        }
      ]
    },
    {
      "cell_type": "code",
      "source": [
        "# Reload dataset (if not already loaded in memory)\n",
        "import pandas as pd\n",
        "\n",
        "df = pd.read_csv(\"Land mines.csv\")\n",
        "\n",
        "# Define features and target again\n",
        "X = df[[\"V\", \"H\", \"S\"]]   # features\n",
        "y = df[\"M\"]               # target (mine type)\n",
        "\n",
        "# Train/test split\n",
        "from sklearn.model_selection import train_test_split\n",
        "from sklearn.metrics import accuracy_score, classification_report\n",
        "\n",
        "X_train, X_test, y_train, y_test = train_test_split(X, y, test_size=0.2, random_state=42)\n"
      ],
      "metadata": {
        "id": "XxIWWUTgSRbw"
      },
      "execution_count": null,
      "outputs": []
    },
    {
      "cell_type": "code",
      "source": [
        "import pandas as pd\n",
        "from sklearn.model_selection import train_test_split\n",
        "from sklearn.metrics import accuracy_score, classification_report\n",
        "from xgboost import XGBClassifier\n",
        "\n",
        "# Load dataset\n",
        "df = pd.read_csv(\"Land mines.csv\")\n",
        "\n",
        "# Features & target\n",
        "X = df[[\"V\", \"H\", \"S\"]]\n",
        "y = df[\"M\"] - 1   # shift classes to start at 0\n",
        "\n",
        "# Train/test split\n",
        "X_train, X_test, y_train, y_test = train_test_split(X, y, test_size=0.2, random_state=42)\n",
        "\n",
        "# XGBoost model\n",
        "xgb_clf = XGBClassifier(\n",
        "    objective=\"multi:softmax\",\n",
        "    num_class=len(y.unique()),\n",
        "    eval_metric=\"mlogloss\",\n",
        "    use_label_encoder=False,\n",
        "    random_state=42\n",
        ")\n",
        "\n",
        "# Train\n",
        "xgb_clf.fit(X_train, y_train)\n",
        "\n",
        "# Predict\n",
        "y_pred_xgb = xgb_clf.predict(X_test)\n",
        "\n",
        "# Metrics\n",
        "print(\"🎯 XGBoost Accuracy:\", accuracy_score(y_test, y_pred_xgb))\n",
        "print(\"\\n📊 Classification Report:\\n\", classification_report(y_test, y_pred_xgb))\n"
      ],
      "metadata": {
        "colab": {
          "base_uri": "https://localhost:8080/"
        },
        "id": "veZv3dlTSd8S",
        "outputId": "68dcabf9-ccc8-4027-f50d-1672aab00efe"
      },
      "execution_count": null,
      "outputs": [
        {
          "output_type": "stream",
          "name": "stderr",
          "text": [
            "/usr/local/lib/python3.12/dist-packages/xgboost/training.py:183: UserWarning: [13:37:57] WARNING: /workspace/src/learner.cc:738: \n",
            "Parameters: { \"use_label_encoder\" } are not used.\n",
            "\n",
            "  bst.update(dtrain, iteration=i, fobj=obj)\n"
          ]
        },
        {
          "output_type": "stream",
          "name": "stdout",
          "text": [
            "🎯 XGBoost Accuracy: 0.5441176470588235\n",
            "\n",
            "📊 Classification Report:\n",
            "               precision    recall  f1-score   support\n",
            "\n",
            "           0       0.67      0.73      0.70        11\n",
            "           1       0.85      0.92      0.88        12\n",
            "           2       0.47      0.44      0.45        16\n",
            "           3       0.33      0.45      0.38        11\n",
            "           4       0.46      0.33      0.39        18\n",
            "\n",
            "    accuracy                           0.54        68\n",
            "   macro avg       0.55      0.57      0.56        68\n",
            "weighted avg       0.54      0.54      0.54        68\n",
            "\n"
          ]
        }
      ]
    },
    {
      "cell_type": "code",
      "source": [
        "import matplotlib.pyplot as plt\n",
        "import pandas as pd\n",
        "\n",
        "# Accuracies you got earlier\n",
        "results = {\n",
        "    \"Decision Tree\": 0.47,\n",
        "    \"Random Forest\": 0.53,\n",
        "    \"SVM\": 0.28,\n",
        "    \"Logistic Regression\": 0.38,\n",
        "    \"XGBoost\": 0.54\n",
        "}\n",
        "\n",
        "# Convert to DataFrame\n",
        "results_df = pd.DataFrame(list(results.items()), columns=[\"Model\", \"Accuracy\"])\n",
        "\n",
        "# Show table\n",
        "print(\"📊 Model Comparison Table:\")\n",
        "print(results_df)\n",
        "\n",
        "# Plot bar chart\n",
        "plt.figure(figsize=(8,5))\n",
        "plt.bar(results.keys(), results.values(), color=[\"skyblue\",\"green\",\"orange\",\"red\",\"purple\"])\n",
        "plt.ylim(0,1)\n",
        "plt.ylabel(\"Accuracy\")\n",
        "plt.title(\"Comparison of ML Models for Landmine Detection\")\n",
        "plt.grid(axis=\"y\", linestyle=\"--\", alpha=0.7)\n",
        "plt.show()\n"
      ],
      "metadata": {
        "colab": {
          "base_uri": "https://localhost:8080/",
          "height": 589
        },
        "id": "Q3A7tPzjTQn0",
        "outputId": "5f001848-24ad-4222-db8a-a51a7569474a"
      },
      "execution_count": null,
      "outputs": [
        {
          "output_type": "stream",
          "name": "stdout",
          "text": [
            "📊 Model Comparison Table:\n",
            "                 Model  Accuracy\n",
            "0        Decision Tree      0.47\n",
            "1        Random Forest      0.53\n",
            "2                  SVM      0.28\n",
            "3  Logistic Regression      0.38\n",
            "4              XGBoost      0.54\n"
          ]
        },
        {
          "output_type": "display_data",
          "data": {
            "text/plain": [
              "<Figure size 800x500 with 1 Axes>"
            ],
            "image/png": "[encoded data removed]"
          },
          "metadata": {}
        }
      ]
    },
    {
      "cell_type": "code",
      "source": [
        "import seaborn as sns\n",
        "from sklearn.metrics import classification_report\n",
        "import numpy as np\n",
        "import matplotlib.pyplot as plt\n",
        "\n",
        "# Store reports for each model\n",
        "reports = {}\n",
        "\n",
        "# Decision Tree\n",
        "# Ensure dt_clf is defined and fitted\n",
        "if 'dt_clf' not in locals():\n",
        "    from sklearn.tree import DecisionTreeClassifier\n",
        "    dt_clf = DecisionTreeClassifier(random_state=42)\n",
        "    dt_clf.fit(X_train, y_train)\n",
        "y_pred_dt = dt_clf.predict(X_test)\n",
        "reports[\"Decision Tree\"] = classification_report(y_test, y_pred_dt, output_dict=True, zero_division=0)\n",
        "\n",
        "# Random Forest\n",
        "# Ensure rf_clf is defined and fitted\n",
        "if 'rf_clf' not in locals():\n",
        "    from sklearn.ensemble import RandomForestClassifier\n",
        "    rf_clf = RandomForestClassifier(random_state=42)\n",
        "    rf_clf.fit(X_train, y_train)\n",
        "y_pred_rf = rf_clf.predict(X_test)\n",
        "reports[\"Random Forest\"] = classification_report(y_test, y_pred_rf, output_dict=True, zero_division=0)\n",
        "\n",
        "# Logistic Regression\n",
        "# Ensure lr_clf is defined and fitted\n",
        "if 'lr_clf' not in locals():\n",
        "    from sklearn.linear_model import LogisticRegression\n",
        "    lr_clf = LogisticRegression(max_iter=1000, random_state=42)\n",
        "    lr_clf.fit(X_train, y_train)\n",
        "y_pred_lr = lr_clf.predict(X_test)\n",
        "reports[\"Logistic Regression\"] = classification_report(y_test, y_pred_lr, output_dict=True, zero_division=0)\n",
        "\n",
        "# SVM\n",
        "# Ensure svm_clf is defined and fitted\n",
        "if 'svm_clf' not in locals():\n",
        "    from sklearn.svm import SVC\n",
        "    svm_clf = SVC(random_state=42)\n",
        "    svm_clf.fit(X_train, y_train)\n",
        "y_pred_svm = svm_clf.predict(X_test)\n",
        "reports[\"SVM\"] = classification_report(y_test, y_pred_svm, output_dict=True, zero_division=0)\n",
        "\n",
        "# XGBoost\n",
        "# Ensure xgb_clf is defined and fitted, and labels are shifted for training\n",
        "if 'xgb_clf' not in locals():\n",
        "    from xgboost import XGBClassifier\n",
        "    xgb_clf = XGBClassifier(objective=\"multi:softmax\", num_class=len(y.unique()), eval_metric=\"mlogloss\", use_label_encoder=False, random_state=42)\n",
        "    y_train_xgb = y_train - 1\n",
        "    xgb_clf.fit(X_train, y_train_xgb)\n",
        "\n",
        "y_pred_xgb_shifted = xgb_clf.predict(X_test)\n",
        "# Shift predictions back for the classification report\n",
        "y_pred_xgb = y_pred_xgb_shifted + 1\n",
        "reports[\"XGBoost\"] = classification_report(y_test, y_pred_xgb, output_dict=True, zero_division=0)\n",
        "\n",
        "\n",
        "# Extract F1-scores for each class and model\n",
        "# Get class labels from the keys of one of the reports (excluding accuracy, macro avg, weighted avg)\n",
        "classes = [key for key in next(iter(reports.values())).keys() if key not in ['accuracy', 'macro avg', 'weighted avg']]\n",
        "\n",
        "heatmap_data = []\n",
        "\n",
        "for model, report in reports.items():\n",
        "    row = [report[cls][\"f1-score\"] for cls in classes]\n",
        "    heatmap_data.append(row)\n",
        "\n",
        "heatmap_data = np.array(heatmap_data)\n",
        "\n",
        "# Plot heatmap\n",
        "plt.figure(figsize=(10,6))\n",
        "sns.heatmap(heatmap_data, annot=True, cmap=\"YlGnBu\", xticklabels=classes, yticklabels=reports.keys(), fmt=\".2f\")\n",
        "plt.xlabel(\"Mine Type Label\") # Updated label to reflect the actual labels used\n",
        "plt.ylabel(\"Model\")\n",
        "plt.title(\"F1-Scores by Model and Mine Type\")\n",
        "plt.show()"
      ],
      "metadata": {
        "colab": {
          "base_uri": "https://localhost:8080/",
          "height": 564
        },
        "id": "Bpzcv75oT5Dh",
        "outputId": "9a27733b-93ed-4203-9722-97cc8023a667"
      },
      "execution_count": null,
      "outputs": [
        {
          "output_type": "display_data",
          "data": {
            "text/plain": [
              "<Figure size 1000x600 with 2 Axes>"
            ],
            "image/png": "[encoded data removed]"
          },
          "metadata": {}
        }
      ]
    },
    {
      "cell_type": "code",
      "source": [
        "# For XGBoost only, shift labels from [1,2,3,4,5] → [0,1,2,3,4]\n",
        "y_train_xgb = y_train - 1\n",
        "y_test_xgb = y_test - 1\n",
        "\n",
        "# Train XGBoost\n",
        "from xgboost import XGBClassifier\n",
        "xgb_clf = XGBClassifier(objective=\"multi:softmax\", num_class=5, eval_metric=\"mlogloss\", random_state=42)\n",
        "xgb_clf.fit(X_train, y_train_xgb)\n",
        "\n",
        "# Predictions\n",
        "y_pred_xgb = xgb_clf.predict(X_test)\n",
        "\n",
        "# Convert predictions back to original 1–5 labels\n",
        "y_pred_xgb = y_pred_xgb + 1\n"
      ],
      "metadata": {
        "id": "_JHR0H_JT_7H"
      },
      "execution_count": null,
      "outputs": []
    },
    {
      "cell_type": "code",
      "source": [
        "from sklearn.model_selection import GridSearchCV\n",
        "\n",
        "# Define parameter grid\n",
        "param_grid = {\n",
        "    \"n_estimators\": [50, 100, 200],\n",
        "    \"max_depth\": [None, 5, 10],\n",
        "    \"min_samples_split\": [2, 5, 10],\n",
        "    \"min_samples_leaf\": [1, 2, 4]\n",
        "}\n",
        "\n",
        "rf = RandomForestClassifier(random_state=42)\n",
        "\n",
        "# GridSearch\n",
        "grid_rf = GridSearchCV(rf, param_grid, cv=5, scoring=\"accuracy\", n_jobs=-1, verbose=1)\n",
        "grid_rf.fit(X_train, y_train)\n",
        "\n",
        "print(\"Best Parameters:\", grid_rf.best_params_)\n",
        "print(\"Best CV Accuracy:\", grid_rf.best_score_)\n",
        "\n",
        "# Train best model\n",
        "best_rf = grid_rf.best_estimator_\n",
        "y_pred_best_rf = best_rf.predict(X_test)\n",
        "\n",
        "print(\"Test Accuracy:\", accuracy_score(y_test, y_pred_best_rf))\n"
      ],
      "metadata": {
        "colab": {
          "base_uri": "https://localhost:8080/"
        },
        "id": "fw42F5-zVAIh",
        "outputId": "9d49519d-3d18-46cb-a6dd-8d993bddbacc"
      },
      "execution_count": null,
      "outputs": [
        {
          "output_type": "stream",
          "name": "stdout",
          "text": [
            "Fitting 5 folds for each of 81 candidates, totalling 405 fits\n",
            "Best Parameters: {'max_depth': 10, 'min_samples_leaf': 2, 'min_samples_split': 2, 'n_estimators': 100}\n",
            "Best CV Accuracy: 0.5444444444444445\n",
            "Test Accuracy: 0.5\n"
          ]
        }
      ]
    },
    {
      "cell_type": "code",
      "source": [
        "import numpy as np\n",
        "\n",
        "# Shift labels (1 → 0, 2 → 1, ..., 5 → 4)\n",
        "y_train_shifted = y_train - np.min(y_train)\n",
        "y_test_shifted = y_test - np.min(y_test)\n"
      ],
      "metadata": {
        "id": "cOSYfXCmV32w"
      },
      "execution_count": null,
      "outputs": []
    },
    {
      "cell_type": "code",
      "source": [
        "from sklearn.model_selection import RandomizedSearchCV\n",
        "from xgboost import XGBClassifier\n",
        "\n",
        "xgb = XGBClassifier(objective=\"multi:softmax\", num_class=5, eval_metric=\"mlogloss\", random_state=42)\n",
        "\n",
        "param_dist = {\n",
        "    \"n_estimators\": [50, 100, 200],\n",
        "    \"max_depth\": [3, 5, 7, 10],\n",
        "    \"learning_rate\": [0.01, 0.05, 0.1, 0.2],\n",
        "    \"subsample\": [0.6, 0.8, 1.0],\n",
        "    \"colsample_bytree\": [0.6, 0.8, 1.0]\n",
        "}\n",
        "\n",
        "random_xgb = RandomizedSearchCV(\n",
        "    xgb, param_dist, n_iter=20, scoring=\"accuracy\", cv=5,\n",
        "    random_state=42, n_jobs=-1, verbose=1\n",
        ")\n",
        "\n",
        "random_xgb.fit(X_train, y_train_shifted)\n",
        "\n",
        "print(\"Best Parameters:\", random_xgb.best_params_)\n",
        "print(\"Best CV Accuracy:\", random_xgb.best_score_)\n",
        "\n",
        "best_xgb = random_xgb.best_estimator_\n",
        "y_pred_best_xgb = best_xgb.predict(X_test)\n",
        "\n",
        "print(\"Test Accuracy:\", accuracy_score(y_test_shifted, y_pred_best_xgb))\n"
      ],
      "metadata": {
        "colab": {
          "base_uri": "https://localhost:8080/"
        },
        "id": "S5AGL2mlVk-I",
        "outputId": "285ca018-5de8-4852-e4ef-b403e5271923"
      },
      "execution_count": null,
      "outputs": [
        {
          "output_type": "stream",
          "name": "stdout",
          "text": [
            "Fitting 5 folds for each of 20 candidates, totalling 100 fits\n",
            "Best Parameters: {'subsample': 0.8, 'n_estimators': 100, 'max_depth': 7, 'learning_rate': 0.1, 'colsample_bytree': 1.0}\n",
            "Best CV Accuracy: 0.5814814814814815\n",
            "Test Accuracy: 0.5147058823529411\n"
          ]
        }
      ]
    }
  ]
}